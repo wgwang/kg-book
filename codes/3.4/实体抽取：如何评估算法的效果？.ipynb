{
 "cells": [
  {
   "cell_type": "markdown",
   "id": "94cc7f2b",
   "metadata": {},
   "source": [
    "## 基于词元的效果评估\n",
    "最直接的效果评估是，根据每一个词元的标注结果和预测结果进行比对来计算 F1值。下面是来自《知识图谱：认知智能理论与实战》清单3-14的计算F1分数的程序："
   ]
  },
  {
   "cell_type": "code",
   "execution_count": 1,
   "id": "3b852142",
   "metadata": {},
   "outputs": [],
   "source": [
    "from sklearn.metrics import f1_score\n",
    "def evaluate_tags(fname_groundtruth, fname_test, avg='micro'):\n",
    "    '''fname_groundtruth: 标注的样本；\n",
    "    fname_test: 测试结果\n",
    "    两个文件的格式与训练语料的格式一致'''\n",
    "    with open(fname_groundtruth) as f:\n",
    "        gt = [i.split('\\t')[-1] for i in f.read().split('\\n') ]\n",
    "    with open(fname_test) as f:\n",
    "        preds = [i.split('\\t')[-1] for i in f.read().split('\\n')]\n",
    "    return f1_score(gt, preds, average=avg)\n"
   ]
  },
  {
   "cell_type": "markdown",
   "id": "b7b90704",
   "metadata": {},
   "source": [
    "将前述的 test.txt 作为fname_groundtruth的参数，test-result.txt作为fname_test的参数，运行evaluate_tags函数即可得到F1分数。\n"
   ]
  },
  {
   "cell_type": "code",
   "execution_count": 2,
   "id": "bf8656cf",
   "metadata": {},
   "outputs": [
    {
     "data": {
      "text/plain": [
       "0.9784599304719275"
      ]
     },
     "execution_count": 2,
     "metadata": {},
     "output_type": "execute_result"
    }
   ],
   "source": [
    "evaluate_tags('test.txt', 'test-result.txt')"
   ]
  },
  {
   "cell_type": "markdown",
   "id": "19949bff",
   "metadata": {},
   "source": [
    "默认情况下，evaluate_tags计算微观 F1分数，计算宏观（macro） F1分数 的话，则使用："
   ]
  },
  {
   "cell_type": "code",
   "execution_count": 3,
   "id": "f2e32728",
   "metadata": {},
   "outputs": [
    {
     "data": {
      "text/plain": [
       "0.8970103545053194"
      ]
     },
     "execution_count": 3,
     "metadata": {},
     "output_type": "execute_result"
    }
   ],
   "source": [
    "evaluate_tags('test.txt', 'test-result.txt', 'macro')"
   ]
  },
  {
   "cell_type": "markdown",
   "id": "512bf3e8",
   "metadata": {},
   "source": [
    "## 基于实体的效果评估\n",
    "\n",
    "<i>在实际应用中，我们通常并不关心每一个词元的标记，特别是不关心不属于任何实体类型的“O”标记，而关心抽取出来的对应于每一个实体类型的实体列表。这很好理解，比如人名“苏轼”（<苏，B-PER>, <轼，I-PER>，<在，O>）标记成“苏轼在”（ <苏，B-PER>, <轼，I-PER>，<在，I-PER>），合理的准确率是0，而不是2/3。</i>\n",
    "\n",
    "                   ——王文广 《知识图谱：认知智能理论与实战》 P113\n",
    "\n",
    "\n",
    "在实际应用中，为了更好地评估模型效果，需要对比标注的实体和模型所抽取出的实体的异同。这首先要从模型预测的结果中提取出所抽取的实体列表，《知识图谱：认知智能理论与实战》清单3-13（P111~112）示例了提取实体列表的程序，如下：\n"
   ]
  },
  {
   "cell_type": "code",
   "execution_count": 4,
   "id": "18388b9a",
   "metadata": {},
   "outputs": [],
   "source": [
    "def get_entities(fname):\n",
    "    '''适用于BIO标记方法'''\n",
    "    entities = {}\n",
    "    tokens_of_entity = []\n",
    "    type_of_entity = None\n",
    "    with open(fname) as f:\n",
    "        for line in f:\n",
    "            line = line.strip()\n",
    "            if not line:  # 空行、句子或段落分割\n",
    "                continue\n",
    "            # token, label = line.split('\\t')\n",
    "            a = line.split('\\t')\n",
    "            token, label = a[0], a[-1]\n",
    "            if label == 'O':  # 不属于任何实体的词元\n",
    "                continue\n",
    "            if label.startswith('B'):\n",
    "                # print(tokens_of_entity, type_of_entity)\n",
    "                if tokens_of_entity:\n",
    "                    if type_of_entity in entities:\n",
    "                        entities[type_of_entity].append(\n",
    "                             ''.join(tokens_of_entity))\n",
    "                    else:\n",
    "                        entities[type_of_entity] = [\n",
    "                             ''.join(tokens_of_entity)]\n",
    "                tokens_of_entity = [token]\n",
    "                # B-type, 比如B-ORG表示ORG类型\n",
    "                type_of_entity = label[2:]\n",
    "                continue\n",
    "            if label.startswith('I'):\n",
    "                # I-type, 比如I-ORG表示ORG类型\n",
    "                assert label[2:] == type_of_entity\n",
    "                tokens_of_entity.append(token)\n",
    "    return entities\n"
   ]
  },
  {
   "attachments": {},
   "cell_type": "markdown",
   "id": "01278215",
   "metadata": {},
   "source": [
    "接着，以《知识图谱：认知智能理论与实战》清单3-15（P113）所示例的代码来计算所抽取的实体的宏观 F1分数:"
   ]
  },
  {
   "cell_type": "code",
   "execution_count": 5,
   "id": "65fa83f4",
   "metadata": {
    "scrolled": false
   },
   "outputs": [],
   "source": [
    "def evaluate_entities(gt, preds):\n",
    "    '''计算根据类别加权的宏观F1分数'''\n",
    "    f1s = []\n",
    "    for cate in gt.keys():\n",
    "        y = set(gt[cate])\n",
    "        y_hat = set(preds[cate])\n",
    "        y_i = y.intersection(y_hat)\n",
    "        p, r, f1 = 0, 0, 0\n",
    "        if y_i:\n",
    "            p = len(y_i) / len(y)\n",
    "            r = len(y_i) / len(y_hat)\n",
    "            f1 = 2 * (p * r) / (p + r)\n",
    "        f1s.append(f1)\n",
    "    return sum(f1s) / len(f1s)\n"
   ]
  },
  {
   "attachments": {},
   "cell_type": "markdown",
   "id": "4359f06e",
   "metadata": {},
   "source": [
    "万事俱备，接下来可以计算按照实体类型进行平均的宏观 F1分数了。此外，通常还可以对每一种类型来计算 F1分数。在此之前，由于 CRF++是将预测的标签附在标注的标签之后，为了能够用get_entities来提取实体，需要把相应的列提取出来，可用如下 shell 命令来实现："
   ]
  },
  {
   "cell_type": "code",
   "execution_count": 6,
   "id": "710c4852",
   "metadata": {},
   "outputs": [],
   "source": [
    "!cut -d ' ' -f 1,3 test-result.txt  > preds.txt\n"
   ]
  },
  {
   "attachments": {},
   "cell_type": "markdown",
   "id": "703a9e68",
   "metadata": {},
   "source": [
    "然后，通过下面代码即可计算按实体类型来评估的宏观 F1分数:"
   ]
  },
  {
   "cell_type": "code",
   "execution_count": 7,
   "id": "a9b0383f",
   "metadata": {
    "scrolled": true
   },
   "outputs": [
    {
     "data": {
      "text/plain": [
       "0.6987135585806094"
      ]
     },
     "execution_count": 7,
     "metadata": {},
     "output_type": "execute_result"
    }
   ],
   "source": [
    "# 按类型获取标注的实体\n",
    "gt = get_entities('test.txt')\n",
    "# 按类型获取预测的实体\n",
    "preds = get_entities('preds.txt')\n",
    "# 计算实体类型evaluate_entities(gt, preds)\n",
    "evaluate_entities(gt, preds)"
   ]
  },
  {
   "cell_type": "markdown",
   "id": "cd43b254",
   "metadata": {},
   "source": [
    "也可以参考evaluate_entities函数的实现，计算每一个实体类型的抽取效果："
   ]
  },
  {
   "cell_type": "code",
   "execution_count": 8,
   "id": "0ed4e53a",
   "metadata": {},
   "outputs": [
    {
     "name": "stdout",
     "output_type": "stream",
     "text": [
      "ORG 0.7078972407231209\n",
      "PER 0.6439135381114903\n",
      "LOC 0.7443298969072165\n"
     ]
    }
   ],
   "source": [
    "for cate in gt.keys():\n",
    "    y = set(gt[cate])\n",
    "    y_hat = set(preds[cate])\n",
    "    y_i = y.intersection(y_hat)\n",
    "    p, r, f1 = 0, 0, 0\n",
    "    if y_i:\n",
    "        p = len(y_i) / len(y)\n",
    "        r = len(y_i) / len(y_hat)\n",
    "        f1 = 2 * (p * r) / (p + r)\n",
    "    print(cate, f1)"
   ]
  },
  {
   "cell_type": "markdown",
   "id": "8df0b495",
   "metadata": {},
   "source": [
    "## 参考\n",
    "\n",
    "- 王文广. 知识图谱：认知智能理论与实战[M]. 北京:电子工业出版社, 2022: P88~91,P111~113\n",
    "- scikit-learn（sklearn）中的f1_score函数 的文档： https://scikit-learn.org/stable/modules/generated/sklearn.metrics.f1_score.html\n",
    "- 本文代码及数据可从 https://github.com/wgwang/kg-book 上获取\n"
   ]
  }
 ],
 "metadata": {
  "kernelspec": {
   "display_name": "Python 3",
   "language": "python",
   "name": "python3"
  },
  "language_info": {
   "codemirror_mode": {
    "name": "ipython",
    "version": 3
   },
   "file_extension": ".py",
   "mimetype": "text/x-python",
   "name": "python",
   "nbconvert_exporter": "python",
   "pygments_lexer": "ipython3",
   "version": "3.9.1"
  }
 },
 "nbformat": 4,
 "nbformat_minor": 5
}
